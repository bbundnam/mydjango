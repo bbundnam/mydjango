{
 "cells": [
  {
   "cell_type": "code",
   "execution_count": 1,
   "id": "3dcd274b",
   "metadata": {},
   "outputs": [],
   "source": [
    "from pybo.models import Question, Answer\n",
    "from django.utils import timezone\n"
   ]
  },
  {
   "cell_type": "code",
   "execution_count": 2,
   "id": "0c622fc8",
   "metadata": {},
   "outputs": [],
   "source": [
    "q = Question(subject = \"pybo가 무엇인가?\", content=\"pybo에 대해서 알고 싶음\", create_date=timezone.now())"
   ]
  },
  {
   "cell_type": "code",
   "execution_count": 3,
   "id": "226d3f47",
   "metadata": {},
   "outputs": [],
   "source": [
    "q.save()"
   ]
  },
  {
   "cell_type": "code",
   "execution_count": null,
   "id": "88a620a1",
   "metadata": {},
   "outputs": [],
   "source": []
  }
 ],
 "metadata": {
  "kernelspec": {
   "display_name": "Django Shell-Plus",
   "language": "python",
   "name": "django_extensions"
  },
  "language_info": {
   "codemirror_mode": {
    "name": "ipython",
    "version": 3
   },
   "file_extension": ".py",
   "mimetype": "text/x-python",
   "name": "python",
   "nbconvert_exporter": "python",
   "pygments_lexer": "ipython3",
   "version": "3.9.13"
  }
 },
 "nbformat": 4,
 "nbformat_minor": 5
}
